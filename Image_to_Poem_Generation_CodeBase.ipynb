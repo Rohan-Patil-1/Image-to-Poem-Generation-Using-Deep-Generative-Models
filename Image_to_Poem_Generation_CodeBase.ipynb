{
  "cells": [
    {
      "cell_type": "markdown",
      "metadata": {
        "id": "pqB7dbc0k_RS"
      },
      "source": [
        "# **Image-to-Poem Generation Using Deep Generative Models**"
      ]
    },
    {
      "cell_type": "markdown",
      "metadata": {
        "id": "nyBbhPvAk_RT"
      },
      "source": [
        "### Student Correspondences:\n",
        "\n",
        "1. Neha Anusooya Thimmarayi - nanusooy@depaul.edu\n",
        "2. Rohan Shankar Patil - rpatil5@depaul.edu\n",
        "\n",
        "#### Project Description:\n",
        "\n",
        "This project explores the use of deep generative models to generate creative, emotionally resonant poetry from visual inputs. The core objective is to develop a machine learning system that accepts an image and generates a corresponding poem that captures the image’s mood, theme, or aesthetic, rather than providing literal descriptions."
      ]
    },
    {
      "cell_type": "markdown",
      "metadata": {
        "id": "JRzmc-MHk_RU"
      },
      "source": [
        "***Sufficient explanations on why each step is essential.\n",
        "Instructions on how to test each function with example cases to illustrate functionality.\n",
        "Commentary on the purpose of each implementation choice, especially if choices deviate from typical practices.***\n",
        "\n",
        "***(We'll remove all content which are in Italics)***"
      ]
    },
    {
      "cell_type": "markdown",
      "metadata": {
        "id": "o8PH5YIbk_RV"
      },
      "source": [
        "----------------"
      ]
    },
    {
      "cell_type": "markdown",
      "metadata": {
        "id": "Mq7PZeyWk_RV"
      },
      "source": [
        "### 1. Introduction to Libraries\n",
        "\n",
        "*Briefly introduce the libraries used (e.g., NumPy, PyTorch), explaining their roles.\n",
        "Mention any installation or setup instructions if special libraries are required.*"
      ]
    },
    {
      "cell_type": "markdown",
      "metadata": {},
      "source": [
        "#### 1.1 Importing Required Libraries"
      ]
    },
    {
      "cell_type": "code",
      "execution_count": 2,
      "metadata": {
        "id": "iay8qID3k_RV"
      },
      "outputs": [],
      "source": [
        "\n",
        "import os\n",
        "import json\n",
        "import random\n",
        "import pandas as pd\n",
        "import numpy as np\n",
        "from PIL import Image\n",
        "import requests\n",
        "from io import BytesIO\n",
        "import torch\n",
        "import torchvision\n",
        "from torchvision import transforms\n",
        "from torchvision.models import resnet18\n",
        "from tqdm import tqdm\n"
      ]
    },
    {
      "cell_type": "code",
      "execution_count": 18,
      "metadata": {},
      "outputs": [
        {
          "name": "stdout",
          "output_type": "stream",
          "text": [
            "GPU is not available\n"
          ]
        }
      ],
      "source": [
        "import torch\n",
        "\n",
        "if torch.cuda.is_available():\n",
        "    print(\"GPU is available\")\n",
        "else:\n",
        "    print(\"GPU is not available\")"
      ]
    },
    {
      "cell_type": "markdown",
      "metadata": {
        "id": "I_5U8gf3k_RW"
      },
      "source": [
        "### Dataset Preparation\n"
      ]
    },
    {
      "cell_type": "code",
      "execution_count": 3,
      "metadata": {
        "id": "TC4C2skSk_RW",
        "outputId": "dac18e81-1bc0-48c1-8da4-c244a3802c3e"
      },
      "outputs": [
        {
          "name": "stdout",
          "output_type": "stream",
          "text": [
            "Total entries in dataset: 8292\n",
            "Example entry:\n",
            "{\n",
            "  \"poem\": \"what is lovely never dies\\nbut passes into other loveliness\\nstar-dust or sea-foam flower or winged air\",\n",
            "  \"image_url\": \"https://farm2.staticflickr.com/1086/1002051357_0e9162423e.jpg\",\n",
            "  \"id\": 0\n",
            "}\n"
          ]
        }
      ],
      "source": [
        "dataset_path = '/workspaces/Image-to-Poem-Generation-Using-Deep-Generative-Models/multim_poem.json'\n",
        "\n",
        "with open(dataset_path, 'r') as f:\n",
        "    data = json.load(f)\n",
        "\n",
        "print(f\"Total entries in dataset: {len(data)}\")\n",
        "\n",
        "# sample\n",
        "print(\"Example entry:\")\n",
        "print(json.dumps(data[0], indent=2))"
      ]
    },
    {
      "cell_type": "code",
      "execution_count": 4,
      "metadata": {
        "id": "rRAXzNPlk_RY",
        "outputId": "8a6a4c7c-9b3a-47e6-a34d-2cd38ebc7771"
      },
      "outputs": [
        {
          "name": "stdout",
          "output_type": "stream",
          "text": [
            "Cleaned dataset size: 8292 entries\n"
          ]
        },
        {
          "data": {
            "text/html": [
              "<div>\n",
              "<style scoped>\n",
              "    .dataframe tbody tr th:only-of-type {\n",
              "        vertical-align: middle;\n",
              "    }\n",
              "\n",
              "    .dataframe tbody tr th {\n",
              "        vertical-align: top;\n",
              "    }\n",
              "\n",
              "    .dataframe thead th {\n",
              "        text-align: right;\n",
              "    }\n",
              "</style>\n",
              "<table border=\"1\" class=\"dataframe\">\n",
              "  <thead>\n",
              "    <tr style=\"text-align: right;\">\n",
              "      <th></th>\n",
              "      <th>image_url</th>\n",
              "      <th>poem</th>\n",
              "    </tr>\n",
              "  </thead>\n",
              "  <tbody>\n",
              "    <tr>\n",
              "      <th>0</th>\n",
              "      <td>https://farm2.staticflickr.com/1086/1002051357...</td>\n",
              "      <td>what is lovely never dies\\nbut passes into oth...</td>\n",
              "    </tr>\n",
              "    <tr>\n",
              "      <th>1</th>\n",
              "      <td>https://farm8.staticflickr.com/7434/1002469112...</td>\n",
              "      <td>sods on the dugout begin to be fledged\\nwith f...</td>\n",
              "    </tr>\n",
              "    <tr>\n",
              "      <th>2</th>\n",
              "      <td>https://farm1.staticflickr.com/19/100255672_97...</td>\n",
              "      <td>one must have the mind of winter\\nto regard th...</td>\n",
              "    </tr>\n",
              "    <tr>\n",
              "      <th>3</th>\n",
              "      <td>https://farm2.staticflickr.com/1034/1002997433...</td>\n",
              "      <td>to put meaning in one's life may end in madnes...</td>\n",
              "    </tr>\n",
              "    <tr>\n",
              "      <th>4</th>\n",
              "      <td>https://farm4.staticflickr.com/3741/1004000893...</td>\n",
              "      <td>of living pained branches\\nmy garden's braided...</td>\n",
              "    </tr>\n",
              "  </tbody>\n",
              "</table>\n",
              "</div>"
            ],
            "text/plain": [
              "                                           image_url  \\\n",
              "0  https://farm2.staticflickr.com/1086/1002051357...   \n",
              "1  https://farm8.staticflickr.com/7434/1002469112...   \n",
              "2  https://farm1.staticflickr.com/19/100255672_97...   \n",
              "3  https://farm2.staticflickr.com/1034/1002997433...   \n",
              "4  https://farm4.staticflickr.com/3741/1004000893...   \n",
              "\n",
              "                                                poem  \n",
              "0  what is lovely never dies\\nbut passes into oth...  \n",
              "1  sods on the dugout begin to be fledged\\nwith f...  \n",
              "2  one must have the mind of winter\\nto regard th...  \n",
              "3  to put meaning in one's life may end in madnes...  \n",
              "4  of living pained branches\\nmy garden's braided...  "
            ]
          },
          "execution_count": 4,
          "metadata": {},
          "output_type": "execute_result"
        }
      ],
      "source": [
        "# Clean Dataset\n",
        "cleaned_data = []\n",
        "\n",
        "for item in data:\n",
        "    poem = item.get(\"poem\")\n",
        "    url = item.get(\"img\") or item.get(\"image_url\")\n",
        "\n",
        "    if poem and url and poem.strip():\n",
        "        cleaned_data.append({\n",
        "            \"image_url\": url,\n",
        "            \"poem\": poem.strip()\n",
        "        })\n",
        "\n",
        "print(f\"Cleaned dataset size: {len(cleaned_data)} entries\")\n",
        "\n",
        "\n",
        "df = pd.DataFrame(cleaned_data)\n",
        "df.head()"
      ]
    },
    {
      "cell_type": "code",
      "execution_count": 5,
      "metadata": {
        "id": "mMX9Ra2ok_RY",
        "outputId": "bd9995f7-a16e-4d77-eec4-19481beb04a0"
      },
      "outputs": [
        {
          "name": "stdout",
          "output_type": "stream",
          "text": [
            "Cleaned dataset saved.\n"
          ]
        }
      ],
      "source": [
        "\n",
        "os.makedirs(\"/workspaces/Image-to-Poem-Generation-Using-Deep-Generative-Models/data/processed\", exist_ok=True)\n",
        "df.to_csv(\"/workspaces/Image-to-Poem-Generation-Using-Deep-Generative-Models/data/processed/cleaned_poems.csv\", index=False)\n",
        "df.to_json(\"/workspaces/Image-to-Poem-Generation-Using-Deep-Generative-Models/data/processed/cleaned_poems.json\", orient=\"records\", indent=2)\n",
        "\n",
        "print(\"Cleaned dataset saved.\")"
      ]
    },
    {
      "cell_type": "code",
      "execution_count": 6,
      "metadata": {
        "id": "NzKtPnv5k_RZ"
      },
      "outputs": [],
      "source": [
        "\n",
        "image_dir = \"/workspaces/Image-to-Poem-Generation-Using-Deep-Generative-Models/data/images\"\n",
        "os.makedirs(image_dir, exist_ok=True)"
      ]
    },
    {
      "cell_type": "code",
      "execution_count": 10,
      "metadata": {
        "id": "RUFiUNsVk_RZ",
        "outputId": "66e33ec2-66e8-477e-bebb-5d0ae2345e5f"
      },
      "outputs": [
        {
          "name": "stderr",
          "output_type": "stream",
          "text": [
            "100%|██████████| 1000/1000 [00:27<00:00, 36.09it/s]"
          ]
        },
        {
          "name": "stdout",
          "output_type": "stream",
          "text": [
            "Successfully downloaded: 720 images\n"
          ]
        },
        {
          "name": "stderr",
          "output_type": "stream",
          "text": [
            "\n"
          ]
        }
      ],
      "source": [
        "def download_image(url, save_path):\n",
        "    try:\n",
        "        response = requests.get(url, timeout=5)\n",
        "        response.raise_for_status()\n",
        "        img = Image.open(BytesIO(response.content)).convert(\"RGB\")\n",
        "        img.save(save_path)\n",
        "        return True\n",
        "    except Exception as e:\n",
        "        return False\n",
        "\n",
        "\n",
        "sample_df = df.sample(n=1000, random_state=42).reset_index(drop=True)\n",
        "\n",
        "success_count = 0\n",
        "\n",
        "valid_data = []\n",
        "image_dir = \"/workspaces/Image-to-Poem-Generation-Using-Deep-Generative-Models/data/images\"\n",
        "os.makedirs(image_dir, exist_ok=True)\n",
        "\n",
        "img_id = 0  # counter for naming valid image files\n",
        "\n",
        "for _, row in tqdm(sample_df.iterrows(), total=len(sample_df)):\n",
        "    url = row['image_url']\n",
        "    poem = row['poem']\n",
        "    filename = f\"{img_id}.jpg\"\n",
        "    img_path = os.path.join(image_dir, filename)\n",
        "\n",
        "    if download_image(url, img_path):\n",
        "        valid_data.append({\n",
        "            \"image_filename\": filename,\n",
        "            \"poem\": poem\n",
        "        })\n",
        "        img_id += 1\n",
        "\n",
        "print(f\"Successfully downloaded: {len(valid_data)} images\")\n",
        "\n",
        "# Save valid entries\n",
        "valid_df = pd.DataFrame(valid_data)\n",
        "valid_df.to_csv(\"/workspaces/Image-to-Poem-Generation-Using-Deep-Generative-Models/data/processed/filtered_poem_data.csv\", index=False)"
      ]
    },
    {
      "cell_type": "code",
      "execution_count": 11,
      "metadata": {
        "id": "JnwNwQAuk_RZ",
        "outputId": "af68c93a-abb0-48c8-a3b9-00204c5fb01c"
      },
      "outputs": [
        {
          "name": "stdout",
          "output_type": "stream",
          "text": [
            "Final usable pairs: 899\n"
          ]
        }
      ],
      "source": [
        "# Align images to poem\n",
        "valid_indices = [i for i in range(1000) if os.path.exists(f\"/workspaces/Image-to-Poem-Generation-Using-Deep-Generative-Models/data/images/{i}.jpg\")]\n",
        "\n",
        "\n",
        "filtered_df = sample_df.loc[valid_indices].reset_index(drop=True)\n",
        "print(f\"Final usable pairs: {len(filtered_df)}\")\n",
        "\n",
        "\n",
        "filtered_df.to_csv(\"/workspaces/Image-to-Poem-Generation-Using-Deep-Generative-Models/data/processed/filtered_poem_data.csv\", index=False)"
      ]
    },
    {
      "cell_type": "markdown",
      "metadata": {
        "id": "aMoQLJhLk_Ra"
      },
      "source": [
        "### 2. Model Design and Implementation\n",
        "\n",
        "*Explain the model’s architecture, including input and output structures.\n",
        "Provide annotated code blocks for each part of the model, detailing the purpose and functionality of each section.\n",
        "Include small test cases to demonstrate the correctness of key methods.*"
      ]
    },
    {
      "cell_type": "code",
      "execution_count": null,
      "metadata": {
        "id": "mNwQZLdWk_Ra"
      },
      "outputs": [],
      "source": []
    },
    {
      "cell_type": "code",
      "execution_count": null,
      "metadata": {
        "id": "jsl0o0hWk_Ra"
      },
      "outputs": [],
      "source": []
    },
    {
      "cell_type": "code",
      "execution_count": null,
      "metadata": {
        "id": "oWCXvp25k_Ra"
      },
      "outputs": [],
      "source": []
    },
    {
      "cell_type": "markdown",
      "metadata": {
        "id": "TfbcU4XIk_Rb"
      },
      "source": [
        "### 3. Training Process\n",
        "\n",
        "*Outline your training pipeline, including data loading, pre-processing, and any regularization techniques.\n",
        "Briefly describe hyperparameters used (learning rate, batch size, epochs) and reasoning behind their choice.\n",
        "Include sample output or logs from training to illustrate model performance and learning curves.*"
      ]
    },
    {
      "cell_type": "code",
      "execution_count": null,
      "metadata": {
        "id": "4IG2PlbDk_Rb"
      },
      "outputs": [],
      "source": []
    },
    {
      "cell_type": "code",
      "execution_count": null,
      "metadata": {
        "id": "yW1aX5lVk_Rb"
      },
      "outputs": [],
      "source": []
    },
    {
      "cell_type": "code",
      "execution_count": null,
      "metadata": {
        "id": "xiA10bI1k_Rb"
      },
      "outputs": [],
      "source": []
    },
    {
      "cell_type": "markdown",
      "metadata": {
        "id": "gxz5Rflkk_Rb"
      },
      "source": [
        "### 4. Evaluation Results\n",
        "\n",
        "*Present evaluation metrics and explain the criteria used to assess the model’s performance.\n",
        "Show example predictions or outputs to demonstrate model accuracy and behavior.\n",
        "Provide insights into the model’s strengths, weaknesses, and areas for improvement based on the results.*"
      ]
    },
    {
      "cell_type": "code",
      "execution_count": null,
      "metadata": {
        "id": "5a0R29f1k_Rb"
      },
      "outputs": [],
      "source": []
    },
    {
      "cell_type": "code",
      "execution_count": null,
      "metadata": {
        "id": "aFantz0Hk_Rc"
      },
      "outputs": [],
      "source": []
    },
    {
      "cell_type": "code",
      "execution_count": null,
      "metadata": {
        "id": "hnqBuv_0k_Rc"
      },
      "outputs": [],
      "source": []
    }
  ],
  "metadata": {
    "colab": {
      "provenance": []
    },
    "kernelspec": {
      "display_name": "Python 3",
      "language": "python",
      "name": "python3"
    },
    "language_info": {
      "codemirror_mode": {
        "name": "ipython",
        "version": 3
      },
      "file_extension": ".py",
      "mimetype": "text/x-python",
      "name": "python",
      "nbconvert_exporter": "python",
      "pygments_lexer": "ipython3",
      "version": "3.12.1"
    }
  },
  "nbformat": 4,
  "nbformat_minor": 0
}
